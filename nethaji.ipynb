{
 "cells": [
  {
   "cell_type": "code",
   "execution_count": 4,
   "metadata": {},
   "outputs": [
    {
     "name": "stderr",
     "output_type": "stream",
     "text": [
      "c:\\Users\\netha\\AppData\\Local\\Programs\\Python\\Python311\\Lib\\site-packages\\tqdm\\auto.py:21: TqdmWarning: IProgress not found. Please update jupyter and ipywidgets. See https://ipywidgets.readthedocs.io/en/stable/user_install.html\n",
      "  from .autonotebook import tqdm as notebook_tqdm\n"
     ]
    }
   ],
   "source": [
    "import fitz\n",
    "from tqdm.auto import tqdm\n",
    "import pandas as pd\n",
    "import re\n",
    "from nltk import word_tokenize\n",
    "import spacy\n",
    "import torch\n",
    "from transformers import GPT2Tokenizer, GPT2Model"
   ]
  },
  {
   "cell_type": "markdown",
   "metadata": {},
   "source": [
    "# preprocessing"
   ]
  },
  {
   "cell_type": "code",
   "execution_count": 8,
   "metadata": {},
   "outputs": [],
   "source": [
    "# Function to clean up text\n",
    "def text_formatter(text: str) -> str:\n",
    "    \"\"\"Performs minor formatting on text.\"\"\"\n",
    "    cleaned_text = text.replace(\"\\n\", \" \").replace(\"\\t\", \" \").strip()\n",
    "    return cleaned_text\n",
    "\n",
    "# Function to open and read PDF, returning a list of pages with cleaned text\n",
    "def open_and_read_pdf(pdf_path: str) -> list[dict]:\n",
    "    doc = fitz.open(pdf_path)  # Open the PDF document\n",
    "    pages_and_texts = \"\"\n",
    "    \n",
    "    for page_number, page in tqdm(enumerate(doc), total=len(doc), desc=\"Processing pages\"):\n",
    "        text = page.get_text()  # Get plain text from the page\n",
    "        text = text_formatter(text)  # Clean up the text\n",
    "        pages_and_texts+=text\n",
    "    \n",
    "    return pages_and_texts"
   ]
  },
  {
   "cell_type": "code",
   "execution_count": 9,
   "metadata": {},
   "outputs": [
    {
     "name": "stderr",
     "output_type": "stream",
     "text": [
      "Processing pages: 100%|██████████| 138/138 [00:00<00:00, 376.63it/s]\n"
     ]
    }
   ],
   "source": [
    "# Assuming you have a PDF file path\n",
    "pdf_path = \"C:/Users/netha/OneDrive/Desktop/srachllm/chat/Baseline_Report.pdf\"\n",
    "\n",
    "# Run the function and get the page data\n",
    "pages_and_texts = open_and_read_pdf(pdf_path=pdf_path)"
   ]
  },
  {
   "cell_type": "code",
   "execution_count": 10,
   "metadata": {},
   "outputs": [],
   "source": [
    "#pages_and_texts"
   ]
  },
  {
   "cell_type": "code",
   "execution_count": 11,
   "metadata": {},
   "outputs": [],
   "source": [
    "from spacy.lang.en import English # see https://spacy.io/usage for install instructions\n",
    "nlp = English()\n",
    "\n",
    "# Add a sentencizer pipeline\n",
    "nlp.add_pipe(\"sentencizer\")\n",
    "sentences=str(nlp(pages_and_texts))\n",
    "#sentences"
   ]
  },
  {
   "cell_type": "markdown",
   "metadata": {},
   "source": [
    "# chunking"
   ]
  },
  {
   "cell_type": "code",
   "execution_count": 12,
   "metadata": {},
   "outputs": [],
   "source": [
    "# Define split size to turn groups of sentences into chunks\n",
    "num_sentence_chunk_size = 777\n",
    "\n",
    "def split_string(input_string: str, chunk_size: int) -> list[str]:\n",
    "    return [input_string[i:i + chunk_size] for i in range(0, len(input_string), chunk_size)]\n",
    "\n",
    "sentence_chunks= split_string(input_string=sentences,\n",
    "                                         chunk_size=num_sentence_chunk_size)\n",
    "\n",
    "#sentence_chunks"
   ]
  },
  {
   "cell_type": "code",
   "execution_count": 13,
   "metadata": {},
   "outputs": [
    {
     "name": "stderr",
     "output_type": "stream",
     "text": [
      "Processing chunks: 100%|██████████| 316/316 [00:00<00:00, 158521.72it/s]\n"
     ]
    }
   ],
   "source": [
    "sentence_chunks_final=[]\n",
    "for page_number, chunk in tqdm(enumerate(sentence_chunks), total=len(sentence_chunks), desc=\"Processing chunks\"):\n",
    "    # Clean up the chunk\n",
    "    joined_sentence_chunk = chunk.replace(\"  \", \" \").strip()\n",
    "    joined_sentence_chunk = re.sub(r'\\.([A-Z])', r'. \\1', joined_sentence_chunk)  # \".A\" -> \". A\" for any full-stop/capital letter combo\n",
    "    sentence_chunks_final.append(joined_sentence_chunk)\n",
    "#sentence_chunks_final"
   ]
  },
  {
   "cell_type": "markdown",
   "metadata": {},
   "source": [
    "# embedding"
   ]
  },
  {
   "cell_type": "code",
   "execution_count": 15,
   "metadata": {},
   "outputs": [],
   "source": [
    "#Requires !pip install sentence-transformers\n",
    "from sentence_transformers import SentenceTransformer\n",
    "embedding_model = SentenceTransformer(model_name_or_path=\"all-mpnet-base-v2\",\n",
    "                                      device=\"cpu\")#sentence_chunks_final\n",
    "\n",
    "# Embed all texts in batches\n",
    "text_chunk_embeddings = embedding_model.encode(sentence_chunks_final,\n",
    "                                               batch_size=32, # you can use different batch sizes here for speed/performance, I found 32 works well for this use case\n",
    "                                               convert_to_tensor=True) # optional to return embeddings as tensor instead of array\n",
    "\n",
    "#text_chunk_embeddings"
   ]
  },
  {
   "cell_type": "code",
   "execution_count": 16,
   "metadata": {},
   "outputs": [
    {
     "data": {
      "text/plain": [
       "torch.Size([316, 768])"
      ]
     },
     "execution_count": 16,
     "metadata": {},
     "output_type": "execute_result"
    }
   ],
   "source": [
    "text_chunk_embeddings.shape"
   ]
  },
  {
   "cell_type": "code",
   "execution_count": 17,
   "metadata": {},
   "outputs": [],
   "source": [
    "\n",
    "import time\n",
    "from sentence_transformers import util\n",
    "\n",
    "def retrieve_relevant_resources(query: str,\n",
    "                                embeddings: torch.tensor,\n",
    "                                model: SentenceTransformer=embedding_model,\n",
    "                                n_resources_to_return: int=5,\n",
    "                                print_time: bool=True):\n",
    "    \"\"\"\n",
    "    Embeds a query with model and returns top k scores and indices from embeddings.\n",
    "    \"\"\"\n",
    "\n",
    "    # Embed the query\n",
    "    query_embedding = model.encode(query, \n",
    "                                   convert_to_tensor=True) \n",
    "\n",
    "    # Get dot product scores on embeddings\n",
    "    start_time = time.perf_counter()\n",
    "    dot_scores = util.dot_score(query_embedding, embeddings)[0]\n",
    "    end_time = time.perf_counter()\n",
    "\n",
    "    if print_time:\n",
    "        print(f\"[INFO] Time taken to get scores on {len(embeddings)} embeddings: {end_time-start_time:.5f} seconds.\")\n",
    "\n",
    "    scores, indices = torch.topk(input=dot_scores, \n",
    "                                 k=n_resources_to_return)\n",
    "\n",
    "    return scores, indices"
   ]
  },
  {
   "cell_type": "code",
   "execution_count": 18,
   "metadata": {},
   "outputs": [
    {
     "name": "stdout",
     "output_type": "stream",
     "text": [
      "[INFO] Time taken to get scores on 316 embeddings: 0.00377 seconds.\n"
     ]
    },
    {
     "data": {
      "text/plain": [
       "(tensor([0.4541, 0.4049, 0.3434, 0.3418, 0.3388]),\n",
       " tensor([  5, 290,  35, 295, 294]))"
      ]
     },
     "execution_count": 18,
     "metadata": {},
     "output_type": "execute_result"
    }
   ],
   "source": [
    "query = \"what are the acheivements done by ICAR-CRIDA?\"\n",
    "\n",
    "# Get just the scores and indices of top related results\n",
    "scores, indices = retrieve_relevant_resources(query=query,\n",
    "                                              embeddings=text_chunk_embeddings)\n",
    "scores, indices"
   ]
  },
  {
   "cell_type": "code",
   "execution_count": 19,
   "metadata": {},
   "outputs": [],
   "source": [
    "# Define helper function to print wrapped text \n",
    "import textwrap\n",
    "\n",
    "def print_wrapped(text, wrap_length=80):\n",
    "    wrapped_text = textwrap.fill(text, wrap_length)\n",
    "    print(wrapped_text)"
   ]
  },
  {
   "cell_type": "code",
   "execution_count": 20,
   "metadata": {},
   "outputs": [],
   "source": [
    "import torch\n",
    "\n",
    "results_list = []\n",
    "def print_top_results_and_scores(query: str,\n",
    "                                 embeddings: torch.tensor,\n",
    "                                 pages_and_chunks: list[str],\n",
    "                                 n_resources_to_return: int = 5):\n",
    "    # Retrieve relevant resources\n",
    "    scores, indices = retrieve_relevant_resources(query=query,\n",
    "                                                  embeddings=embeddings,\n",
    "                                                  n_resources_to_return=n_resources_to_return)\n",
    "    \n",
    "    print(f\"Query: {query}\\n\")\n",
    "    print(\"Results:\")\n",
    "    \n",
    "    for index in indices:\n",
    "        result = pages_and_chunks[index]\n",
    "        results_list.append(result)\n",
    "    \n",
    "    return results_list"
   ]
  },
  {
   "cell_type": "code",
   "execution_count": 21,
   "metadata": {},
   "outputs": [
    {
     "name": "stdout",
     "output_type": "stream",
     "text": [
      "[INFO] Time taken to get scores on 316 embeddings: 0.00020 seconds.\n",
      "Query: tell about horticulture\n",
      "\n",
      "Results:\n"
     ]
    },
    {
     "data": {
      "text/plain": [
       "['ences on all sides should be trained with cucurbitaceous vegetables (Bottle gourd, Bitter gourd and Snake gourd) ► Some vegetables are direct sown-(Amaranthus, Bottle gourd, Bitter gourd and Snake gourd) ► Some vegetables are nursery transplanted (Tomato, Brinjal, Chillies and Onion) ► Divide the area into equal sized plots for raising annual vegetable crops ► As intensive and continuous cropping is done in a kitchen garden ► Fertility and texture of soil may be maintained by applying adequate quantities of organic manures frequently ► Ridges and furrows are formed in each plots ► Season of planting: June-July and September-October ► Bee-hive may be provided for ensuring adequate pollination of crops besides obtaining honey ► However, in order to harvest good crop,',\n",
       " 've study in agriculturally intensive regions of Uttar Pradesh, India. Environment, Development and Sustainability, 23(4), 5822-5845. Reddy, A. (2014). Profitability and labour use in cropping systems. Indian J. Dryland Agric. Res. & Dev, 29(1), 97-106.76 Chapter 12 HORTICULTURE A. G. K. Reddy, T. V. Prasad and Jagati Yadagiri ICAR-Central Research Institute for Dryland Agriculture (CRIDA), Santoshnagar, Hyderabad- 500 059, Telangana State Horticultural crops are the future engine of growth for increasing farmer’s income. The demand growth rates from both domestic and international markets especially fruits and vegetables and also plantation crops are increasing at the rate of 5-7 per cent per annum while the growth rates of food grains and other crops are stagna',\n",
       " 'rds of low-income rural families through integrated household food production. Nutrition-gardening presents an innovative solution to ensure food security, employment of youth, and an alternative way to generate extra income in developing countries. In Mancherial district is carved out of erstwhile Adilabad district most of the rural villages lot of space available for Nutrition gardens and some famlies are already involved in growing selected or few crops like maize, gourds and beans. They are using only native seeds and one season for i.e., kharif for growing vegetables in the backyard. There is lot of scope for diversification with different crops, seasons and improved seed for year around production (Table 13.1 and Figure 13.1).83 Table 13.1: Crops suited',\n",
       " 'f conservation horticulture to achieve the goal of enhanced mango productivity.81 Application and extension of existing technologies Mango is national fruit and deserves a nationwide attention to achieve the top position in the world to retain the title of national fruit and to help the farmers to make profit from mango orchards. Available evidence suggests that the yield gap between average farm yields and the experiments yield on research farms are derived from factors such as: (i) low profitability of mango production; (ii) limited access to new orchard technologies and; (iii) poor soil and orchard management by farmers. We must focus on a mission mode to adopt the available technologies of orchard management across the country to enhance the productivity,',\n",
       " 'and other sources); (v) landholding pattern like extent of owned land, leased-in land, leased- out land and total operational holding with extent of dryland and wet land; (vi) cropping pattern by season and by irrigation status; (vii) general living standards like owning two wheeler/four wheeler,10 mobile, TV, refrigerator, electricity; (viii) type of farm machinery owned including desi plough, seed drill, drip irrigation, sprayers, tractors etc., (ix) ownership of different livestock like bullocks, buffalo, cows, goat and sheep; (x) credit behaviour of the farmers which include amount and source of credit and interest rates both from formal and informal sources; (xi) insurance (awareness about insurance scheme) especially the ongoing crop insurance scheme (Prim']"
      ]
     },
     "execution_count": 21,
     "metadata": {},
     "output_type": "execute_result"
    }
   ],
   "source": [
    "query = \"tell about horticulture\"\n",
    "\n",
    "# Print out the texts of the top scores\n",
    "print_top_results_and_scores(query=query,\n",
    "                             embeddings=text_chunk_embeddings,pages_and_chunks=sentence_chunks_final)"
   ]
  },
  {
   "cell_type": "code",
   "execution_count": 23,
   "metadata": {},
   "outputs": [
    {
     "name": "stderr",
     "output_type": "stream",
     "text": [
      "The attention mask and the pad token id were not set. As a consequence, you may observe unexpected behavior. Please pass your input's `attention_mask` to obtain reliable results.\n",
      "Setting `pad_token_id` to `eos_token_id`:50256 for open-end generation.\n"
     ]
    },
    {
     "data": {
      "text/plain": [
       "'\\n\\nRelevant Information:\\nences on all sides should be trained with cucurbitaceous vegetables (Bottle gourd, Bitter gourd and Snake gourd) ► Some vegetables are direct sown-(Amaranthus, Bottle gourd, Bitter gourd and Snake gourd) ► Some vegetables are nursery transplanted (Tomato, Brinjal, Chillies and Onion) ► Divide the area into equal sized plots for raising annual vegetable crops ► As intensive and continuous cropping is done in a kitchen garden ► Fertility and texture of soil may be maintained by applying adequate quantities of organic manures frequently ► Ridges and furrows are formed in each plots ► Season of planting: June-July and September-October ► Bee-hive may be provided for ensuring adequate pollination of crops besides obtaining honey ► However, in order to harvest good crop, ve study in agriculturally intensive regions of Uttar Pradesh, India. Environment, Development and Sustainability, 23(4), 5822-5845. Reddy, A. (2014). Profitability and labour use in cropping systems. Indian J. Dryland Agric. Res. & Dev, 29(1), 97-106.76 Chapter 12 HORTICULTURE A. G. K. Reddy, T. V. Prasad and Jagati Yadagiri ICAR-Central Research Institute for Dryland Agriculture (CRIDA), Santoshnagar, Hyderabad- 500 059, Telangana State Horticultural crops are the future engine of growth for increasing farmer’s income. The demand growth rates from both domestic and international markets especially fruits and vegetables and also plantation crops are increasing at the rate of 5-7 per cent per annum while the growth rates of food grains and other crops are stagnaing at the rate of 1-2 per cent per annum. The growth rate of food crops is increasing at the rate of 1-2 per cent per annum. The growth rate of food crops is increasing at the rate of 1-2 per cent per annum. The growth rate of food crops is increasing at the rate of 1-2 per cent per annum. The growth rate of food crops is increasing at the rate of 1-2 per cent per annum. The growth rate of food crops is increasing at the rate of 1-2 per cent per annum. The growth rate of food'"
      ]
     },
     "execution_count": 23,
     "metadata": {},
     "output_type": "execute_result"
    }
   ],
   "source": [
    "from transformers import GPT2Tokenizer, GPT2LMHeadModel\n",
    "import torch\n",
    "\n",
    "# Function to combine query and relevant texts into a single input string\n",
    "def prepare_input(query, relevant_texts):\n",
    "    context = ' '.join(relevant_texts)\n",
    "    input_text = f\"{query}\\n\\nRelevant Information:\\n{context}\"\n",
    "    return input_text\n",
    "\n",
    "# Function to generate a response\n",
    "def generate_response(input_text, tokenizer, model):\n",
    "    inputs = tokenizer.encode(input_text, return_tensors='pt')\n",
    "    with torch.no_grad():\n",
    "        outputs = model.generate(inputs, max_length=500, num_return_sequences=1)\n",
    "    response = tokenizer.decode(outputs[0], skip_special_tokens=True)\n",
    "    return response\n",
    "\n",
    "def main(query, relevant_texts):\n",
    "    # Prepare the input text\n",
    "    input_text = prepare_input(query, relevant_texts)\n",
    "\n",
    "    # Initialize the tokenizer and model\n",
    "    tokenizer = GPT2Tokenizer.from_pretrained(\"gpt2\")\n",
    "    model = GPT2LMHeadModel.from_pretrained(\"gpt2\")\n",
    "\n",
    "    # Generate the response\n",
    "    response = generate_response(input_text, tokenizer, model)\n",
    "    return response\n",
    "\n",
    "# Example usage\n",
    "query = \"\"\n",
    "relevant_texts = results_list\n",
    "result = main(query, relevant_texts[:2])\n",
    "result"
   ]
  },
  {
   "cell_type": "code",
   "execution_count": 24,
   "metadata": {},
   "outputs": [
    {
     "name": "stdout",
     "output_type": "stream",
     "text": [
      "\n",
      "\n",
      "Relevant Information:\n",
      "ences on all sides should be trained with cucurbitaceous vegetables (Bottle gourd, Bitter gourd and Snake gourd) ► Some vegetables are direct sown-(Amaranthus, Bottle gourd, Bitter gourd and Snake gourd) ► Some vegetables are nursery transplanted (Tomato, Brinjal, Chillies and Onion) ► Divide the area into equal sized plots for raising annual vegetable crops ► As intensive and continuous cropping is done in a kitchen garden ► Fertility and texture of soil may be maintained by applying adequate quantities of organic manures frequently ► Ridges and furrows are formed in each plots ► Season of planting: June-July and September-October ► Bee-hive may be provided for ensuring adequate pollination of crops besides obtaining honey ► However, in order to harvest good crop, ve study in agriculturally intensive regions of Uttar Pradesh, India. Environment, Development and Sustainability, 23(4), 5822-5845. Reddy, A. (2014). Profitability and labour use in cropping systems. Indian J. Dryland Agric. Res. & Dev, 29(1), 97-106.76 Chapter 12 HORTICULTURE A. G. K. Reddy, T. V. Prasad and Jagati Yadagiri ICAR-Central Research Institute for Dryland Agriculture (CRIDA), Santoshnagar, Hyderabad- 500 059, Telangana State Horticultural crops are the future engine of growth for increasing farmer’s income. The demand growth rates from both domestic and international markets especially fruits and vegetables and also plantation crops are increasing at the rate of 5-7 per cent per annum while the growth rates of food grains and other crops are stagnaing at the rate of 1-2 per cent per annum. The growth rate of food crops is increasing at the rate of 1-2 per cent per annum. The growth rate of food crops is increasing at the rate of 1-2 per cent per annum. The growth rate of food crops is increasing at the rate of 1-2 per cent per annum. The growth rate of food crops is increasing at the rate of 1-2 per cent per annum. The growth rate of food crops is increasing at the rate of 1-2 per cent per annum. The growth rate of food\n"
     ]
    }
   ],
   "source": [
    "print(result)"
   ]
  },
  {
   "cell_type": "code",
   "execution_count": null,
   "metadata": {},
   "outputs": [],
   "source": []
  }
 ],
 "metadata": {
  "kernelspec": {
   "display_name": "Python 3",
   "language": "python",
   "name": "python3"
  },
  "language_info": {
   "codemirror_mode": {
    "name": "ipython",
    "version": 3
   },
   "file_extension": ".py",
   "mimetype": "text/x-python",
   "name": "python",
   "nbconvert_exporter": "python",
   "pygments_lexer": "ipython3",
   "version": "3.11.0"
  }
 },
 "nbformat": 4,
 "nbformat_minor": 2
}
